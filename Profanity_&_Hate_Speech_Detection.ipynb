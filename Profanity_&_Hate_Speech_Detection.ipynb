{
  "nbformat": 4,
  "nbformat_minor": 0,
  "metadata": {
    "kernelspec": {
      "display_name": "Python 3",
      "language": "python",
      "name": "python3"
    },
    "language_info": {
      "codemirror_mode": {
        "name": "ipython",
        "version": 3
      },
      "file_extension": ".py",
      "mimetype": "text/x-python",
      "name": "python",
      "nbconvert_exporter": "python",
      "pygments_lexer": "ipython3",
      "version": "3.7.3"
    },
    "latex_envs": {
      "LaTeX_envs_menu_present": true,
      "autoclose": false,
      "autocomplete": true,
      "bibliofile": "biblio.bib",
      "cite_by": "apalike",
      "current_citInitial": 1,
      "eqLabelWithNumbers": true,
      "eqNumInitial": 1,
      "hotkeys": {
        "equation": "Ctrl-E",
        "itemize": "Ctrl-I"
      },
      "labels_anchors": false,
      "latex_user_defs": false,
      "report_style_numbering": false,
      "user_envs_cfg": false
    },
    "varInspector": {
      "cols": {
        "lenName": 16,
        "lenType": 16,
        "lenVar": 40
      },
      "kernels_config": {
        "python": {
          "delete_cmd_postfix": "",
          "delete_cmd_prefix": "del ",
          "library": "var_list.py",
          "varRefreshCmd": "print(var_dic_list())"
        },
        "r": {
          "delete_cmd_postfix": ") ",
          "delete_cmd_prefix": "rm(",
          "library": "var_list.r",
          "varRefreshCmd": "cat(var_dic_list()) "
        }
      },
      "types_to_exclude": [
        "module",
        "function",
        "builtin_function_or_method",
        "instance",
        "_Feature"
      ],
      "window_display": false
    },
    "colab": {
      "name": "Profanity & Hate Speech Detection.ipynb",
      "provenance": [],
      "include_colab_link": true
    },
    "accelerator": "GPU"
  },
  "cells": [
    {
      "cell_type": "markdown",
      "metadata": {
        "id": "view-in-github",
        "colab_type": "text"
      },
      "source": [
        "<a href=\"https://colab.research.google.com/github/ygsriram/hrs/blob/main/Profanity_%26_Hate_Speech_Detection.ipynb\" target=\"_parent\"><img src=\"https://colab.research.google.com/assets/colab-badge.svg\" alt=\"Open In Colab\"/></a>"
      ]
    },
    {
      "cell_type": "markdown",
      "metadata": {
        "id": "aQpi1ODSTVbv"
      },
      "source": [
        "# Profanity & Hate Speech Detector"
      ]
    },
    {
      "cell_type": "markdown",
      "metadata": {
        "id": "nyuVq0NjTlQM"
      },
      "source": [
        "In this notebook, we will be looking at how create a Profanity & Hate Speech Detector and also how to create a TensorFlow Lite model that can be used in the development of an Android Application to curb Profanity & Hateful Speeches."
      ]
    },
    {
      "cell_type": "markdown",
      "metadata": {
        "id": "XIdBZ7z6VlQX"
      },
      "source": [
        "# Data Analysis and Preprocessing"
      ]
    },
    {
      "cell_type": "markdown",
      "metadata": {
        "id": "ABE0JMV7VUcy"
      },
      "source": [
        "### Importing required libraries for data  analysis and preprocessing "
      ]
    },
    {
      "cell_type": "code",
      "metadata": {
        "id": "WQTDdF9vEhJ2"
      },
      "source": [
        "import pandas as pd\n",
        "import numpy as np\n",
        "import matplotlib.patches as mpatches\n",
        "import matplotlib.pyplot as plt\n",
        "from sklearn.feature_extraction.text import CountVectorizer\n",
        "import seaborn as sns\n",
        "%matplotlib inline"
      ],
      "execution_count": 1,
      "outputs": []
    },
    {
      "cell_type": "markdown",
      "metadata": {
        "id": "LHZ_8zvEVs1v"
      },
      "source": [
        "### Please find the data [here](https://drive.google.com/file/d/1-4goFIBsUrml0QZaPTWINyxeKzj04TLf/view?usp=sharing) \n"
      ]
    },
    {
      "cell_type": "code",
      "metadata": {
        "colab": {
          "base_uri": "https://localhost:8080/"
        },
        "id": "w0bMZkBaEkGB",
        "outputId": "33c11398-b4b8-4038-866e-f20bee9e6e3a"
      },
      "source": [
        "from google.colab import drive\n",
        "drive.mount('/content/drive')"
      ],
      "execution_count": 2,
      "outputs": [
        {
          "output_type": "stream",
          "text": [
            "Mounted at /content/drive\n"
          ],
          "name": "stdout"
        }
      ]
    },
    {
      "cell_type": "code",
      "metadata": {
        "id": "JL3ZucRrEhJ7"
      },
      "source": [
        "df = pd.read_excel(\"/content/drive/MyDrive/Datasets/data.xlsx\")"
      ],
      "execution_count": 3,
      "outputs": []
    },
    {
      "cell_type": "markdown",
      "metadata": {
        "id": "n8bu3GK0W81G"
      },
      "source": [
        "### This dataset contains the twitter extracted posts where, each post in the dataset is annotated from three different perspectives: the basic, commonly used 3-class classification (i.e., hate, offensive or normal), the target community (i.e., the community that has been the victim of hate speech/offensive speech in the post), and the rationales, i.e., the portions of the post on which their labelling decision (as hate, offensive or normal) is based. \n",
        "\n",
        "### To learn more about the dataset please refer [this](https://github.com/punyajoy/HateXplain) \n",
        "\n",
        "@article{mathew2020hatexplain,\n",
        "\n",
        "  title={HateXplain: A Benchmark Dataset for Explainable Hate Speech Detection},\n",
        "\n",
        "  author={Mathew, Binny and Saha, Punyajoy and Yimam, Seid Muhie and Biemann, Chris and Goyal, Pawan and Mukherjee, Animesh},\n",
        "\n",
        "  journal={arXiv preprint arXiv:2012.10289},\n",
        "  \n",
        "  year={2020}\n",
        "}"
      ]
    },
    {
      "cell_type": "code",
      "metadata": {
        "colab": {
          "base_uri": "https://localhost:8080/",
          "height": 479
        },
        "id": "ZmOGYdsJEhJ8",
        "outputId": "12d970ed-c3c5-4760-b89d-27d9ffa6d879"
      },
      "source": [
        "df.head()"
      ],
      "execution_count": 4,
      "outputs": [
        {
          "output_type": "execute_result",
          "data": {
            "text/html": [
              "<div>\n",
              "<style scoped>\n",
              "    .dataframe tbody tr th:only-of-type {\n",
              "        vertical-align: middle;\n",
              "    }\n",
              "\n",
              "    .dataframe tbody tr th {\n",
              "        vertical-align: top;\n",
              "    }\n",
              "\n",
              "    .dataframe thead th {\n",
              "        text-align: right;\n",
              "    }\n",
              "</style>\n",
              "<table border=\"1\" class=\"dataframe\">\n",
              "  <thead>\n",
              "    <tr style=\"text-align: right;\">\n",
              "      <th></th>\n",
              "      <th>post_id</th>\n",
              "      <th>text</th>\n",
              "      <th>annotatorid1</th>\n",
              "      <th>target1</th>\n",
              "      <th>label1</th>\n",
              "      <th>annotatorid2</th>\n",
              "      <th>target2</th>\n",
              "      <th>label2</th>\n",
              "      <th>annotatorid3</th>\n",
              "      <th>target3</th>\n",
              "      <th>label3</th>\n",
              "      <th>rationales</th>\n",
              "      <th>final_label</th>\n",
              "    </tr>\n",
              "  </thead>\n",
              "  <tbody>\n",
              "    <tr>\n",
              "      <th>0</th>\n",
              "      <td>1179055004553900032_twitter</td>\n",
              "      <td>['i', 'dont', 'think', 'im', 'getting', 'my', ...</td>\n",
              "      <td>1</td>\n",
              "      <td>['None']</td>\n",
              "      <td>normal</td>\n",
              "      <td>2</td>\n",
              "      <td>['None']</td>\n",
              "      <td>normal</td>\n",
              "      <td>3</td>\n",
              "      <td>['None']</td>\n",
              "      <td>normal</td>\n",
              "      <td>[]</td>\n",
              "      <td>non-toxic</td>\n",
              "    </tr>\n",
              "    <tr>\n",
              "      <th>1</th>\n",
              "      <td>1179063826874032128_twitter</td>\n",
              "      <td>['we', 'cannot', 'continue', 'calling', 'ourse...</td>\n",
              "      <td>1</td>\n",
              "      <td>['None']</td>\n",
              "      <td>normal</td>\n",
              "      <td>2</td>\n",
              "      <td>['None']</td>\n",
              "      <td>normal</td>\n",
              "      <td>3</td>\n",
              "      <td>['None']</td>\n",
              "      <td>normal</td>\n",
              "      <td>[]</td>\n",
              "      <td>non-toxic</td>\n",
              "    </tr>\n",
              "    <tr>\n",
              "      <th>2</th>\n",
              "      <td>1178793830532956161_twitter</td>\n",
              "      <td>['nawt', 'yall', 'niggers', 'ignoring', 'me']</td>\n",
              "      <td>4</td>\n",
              "      <td>['African']</td>\n",
              "      <td>normal</td>\n",
              "      <td>2</td>\n",
              "      <td>['None']</td>\n",
              "      <td>normal</td>\n",
              "      <td>3</td>\n",
              "      <td>['African']</td>\n",
              "      <td>hatespeech</td>\n",
              "      <td>[]</td>\n",
              "      <td>non-toxic</td>\n",
              "    </tr>\n",
              "    <tr>\n",
              "      <th>3</th>\n",
              "      <td>1179088797964763136_twitter</td>\n",
              "      <td>['&lt;user&gt;', 'i', 'am', 'bit', 'confused', 'coz'...</td>\n",
              "      <td>1</td>\n",
              "      <td>['Asian']</td>\n",
              "      <td>hatespeech</td>\n",
              "      <td>4</td>\n",
              "      <td>['Asian']</td>\n",
              "      <td>offensive</td>\n",
              "      <td>3</td>\n",
              "      <td>['Asian']</td>\n",
              "      <td>hatespeech</td>\n",
              "      <td>[[0, 0, 0, 0, 0, 0, 0, 0, 0, 0, 0, 0, 0, 0, 0,...</td>\n",
              "      <td>toxic</td>\n",
              "    </tr>\n",
              "    <tr>\n",
              "      <th>4</th>\n",
              "      <td>1179085312976445440_twitter</td>\n",
              "      <td>['this', 'bitch', 'in', 'whataburger', 'eating...</td>\n",
              "      <td>4</td>\n",
              "      <td>['Caucasian', 'Women']</td>\n",
              "      <td>hatespeech</td>\n",
              "      <td>2</td>\n",
              "      <td>['Women', 'Caucasian']</td>\n",
              "      <td>hatespeech</td>\n",
              "      <td>3</td>\n",
              "      <td>['Women', 'Caucasian']</td>\n",
              "      <td>offensive</td>\n",
              "      <td>[[0, 1, 0, 0, 0, 0, 0, 0, 0, 0, 0, 0, 0, 0, 0,...</td>\n",
              "      <td>toxic</td>\n",
              "    </tr>\n",
              "  </tbody>\n",
              "</table>\n",
              "</div>"
            ],
            "text/plain": [
              "                       post_id  ... final_label\n",
              "0  1179055004553900032_twitter  ...   non-toxic\n",
              "1  1179063826874032128_twitter  ...   non-toxic\n",
              "2  1178793830532956161_twitter  ...   non-toxic\n",
              "3  1179088797964763136_twitter  ...       toxic\n",
              "4  1179085312976445440_twitter  ...       toxic\n",
              "\n",
              "[5 rows x 13 columns]"
            ]
          },
          "metadata": {
            "tags": []
          },
          "execution_count": 4
        }
      ]
    },
    {
      "cell_type": "markdown",
      "metadata": {
        "id": "frWjx1C8YCuP"
      },
      "source": [
        "### This dataframe contains final lable column that can be used in order to indentify whether the post is [\"toxi\", \"non-toxic\", \"undecided\"] and the distrubition for each of them is shown below"
      ]
    },
    {
      "cell_type": "code",
      "metadata": {
        "colab": {
          "base_uri": "https://localhost:8080/",
          "height": 282
        },
        "id": "BVPWz0ADEhJ9",
        "outputId": "2821e439-5ce1-4458-874a-96ce125819eb"
      },
      "source": [
        "plt.bar(df.final_label.unique(),  df.final_label.value_counts().values)"
      ],
      "execution_count": 5,
      "outputs": [
        {
          "output_type": "execute_result",
          "data": {
            "text/plain": [
              "<BarContainer object of 3 artists>"
            ]
          },
          "metadata": {
            "tags": []
          },
          "execution_count": 5
        },
        {
          "output_type": "display_data",
          "data": {
            "image/png": "[encoded data removed]",
            "text/plain": [
              "<Figure size 432x288 with 1 Axes>"
            ]
          },
          "metadata": {
            "tags": [],
            "needs_background": "light"
          }
        }
      ]
    },
    {
      "cell_type": "code",
      "metadata": {
        "colab": {
          "base_uri": "https://localhost:8080/",
          "height": 282
        },
        "id": "HRdEWWmWEhJ9",
        "outputId": "0ef465d4-094b-40ba-800e-b83b8b006bc3"
      },
      "source": [
        "plt.bar(df.label1.unique(),  df.label1.value_counts().values)\n",
        "plt.bar(df.label2.unique(),  df.label2.value_counts().values)\n",
        "plt.bar(df.label3.unique(),  df.label3.value_counts().values)"
      ],
      "execution_count": 6,
      "outputs": [
        {
          "output_type": "execute_result",
          "data": {
            "text/plain": [
              "<BarContainer object of 3 artists>"
            ]
          },
          "metadata": {
            "tags": []
          },
          "execution_count": 6
        },
        {
          "output_type": "display_data",
          "data": {
            "image/png": "[encoded data removed]",
            "text/plain": [
              "<Figure size 432x288 with 1 Axes>"
            ]
          },
          "metadata": {
            "tags": [],
            "needs_background": "light"
          }
        }
      ]
    },
    {
      "cell_type": "markdown",
      "metadata": {
        "id": "B8MCKF-kYjIG"
      },
      "source": [
        "### Below we have the posts distribution based on the target community (i.e., the community that has been the victim of hate speech/offensive speech in the post)"
      ]
    },
    {
      "cell_type": "code",
      "metadata": {
        "scrolled": true,
        "colab": {
          "base_uri": "https://localhost:8080/",
          "height": 629
        },
        "id": "3tyZEcAOEhJ-",
        "outputId": "6233bba5-de0c-4796-fcb0-037eea59c594"
      },
      "source": [
        "plt.figure(figsize = (50,10))\n",
        "\n",
        "plt.bar(df.target1.value_counts().keys()[1:20],  df.target1.value_counts().values[1:20],color=\"red\", width = .3)\n",
        "plt.bar(df.target2.value_counts().keys()[1:20],  df.target2.value_counts().values[1:20],color=\"green\", width = .3)\n",
        "plt.bar(df.target3.value_counts().keys()[1:20],  df.target3.value_counts().values[1:20],color=\"blue\", width = .3)\n",
        "red_patch = mpatches.Patch(color='red', label='target1')\n",
        "green_patch = mpatches.Patch(color='green', label='target2')\n",
        "blue_patch = mpatches.Patch(color='blue', label='target3')\n",
        "plt.legend(handles=[red_patch, green_patch, blue_patch])"
      ],
      "execution_count": 7,
      "outputs": [
        {
          "output_type": "execute_result",
          "data": {
            "text/plain": [
              "<matplotlib.legend.Legend at 0x7f2db1da2128>"
            ]
          },
          "metadata": {
            "tags": []
          },
          "execution_count": 7
        },
        {
          "output_type": "display_data",
          "data": {
            "image/png": "[encoded data removed]",
            "text/plain": [
              "<Figure size 3600x720 with 1 Axes>"
            ]
          },
          "metadata": {
            "tags": [],
            "needs_background": "light"
          }
        }
      ]
    },
    {
      "cell_type": "markdown",
      "metadata": {
        "id": "6elKmrtwYz80"
      },
      "source": [
        "### As we can see from the distribution the African, Islam, Jewish and Homosexual communities are in the top 4 communities that have been the victim of hate speech/offensive speech in the post"
      ]
    },
    {
      "cell_type": "code",
      "metadata": {
        "colab": {
          "base_uri": "https://localhost:8080/",
          "height": 86
        },
        "id": "fNBUK_gjEhJ-",
        "outputId": "c9b6e147-9591-4491-d7b6-ed0c279fa98e"
      },
      "source": [
        "# finding the longest post in the dataset\n",
        "df.text.max()"
      ],
      "execution_count": 8,
      "outputs": [
        {
          "output_type": "execute_result",
          "data": {
            "application/vnd.google.colaboratory.intrinsic+json": {
              "type": "string"
            },
            "text/plain": [
              "\"['🤣', '🤣', '😂', '😂', '🤣', '🤣', '😂', '😂', '🤣', '🤣', 'you', 'spelled', 'my', 'name', 'wrong', 'and', 'my', 'name', 'is', 'literally', 'in', 'front', 'of', 'your', 'face', 'not', 'only', 'are', 'your', 'nations', 'sucking', 'in', 'sand', 'niggers', 'but', 'its', 'already', 'affecting', 'whites', 'iq', '🤣', '🤣', '🤣', '😂', '😂', '😂', '🤣', '🤣', '😂', '😂']\""
            ]
          },
          "metadata": {
            "tags": []
          },
          "execution_count": 8
        }
      ]
    },
    {
      "cell_type": "code",
      "metadata": {
        "id": "rn1GUXfDEhJ-"
      },
      "source": [
        "# Preprocessing the dataset\n",
        "df.text = df.text.str.replace(\"[\\\"\\[\\],\\']\",\"\")"
      ],
      "execution_count": 9,
      "outputs": []
    },
    {
      "cell_type": "code",
      "metadata": {
        "id": "3bJSoZn7EhJ_"
      },
      "source": [
        "def get_top_n_words(corpus, n=None):\n",
        "    vec = CountVectorizer().fit(corpus)\n",
        "    bag_of_words = vec.transform(corpus)\n",
        "    sum_words = bag_of_words.sum(axis=0) \n",
        "    words_freq = [(word, sum_words[0, idx])  for word, idx in vec.vocabulary_.items()]\n",
        "    words_freq =sorted(words_freq, key = lambda x: x[1], reverse=True)\n",
        "    return words_freq[:n]\n"
      ],
      "execution_count": 10,
      "outputs": []
    },
    {
      "cell_type": "code",
      "metadata": {
        "id": "zu3elAEJEhJ_"
      },
      "source": [
        "common_words = get_top_n_words(df.text)\n",
        "common_words = np.array(common_words)"
      ],
      "execution_count": 11,
      "outputs": []
    },
    {
      "cell_type": "markdown",
      "metadata": {
        "id": "BckAZyR3ZdVS"
      },
      "source": [
        "### Below is a plot of the most common words used in the dataset"
      ]
    },
    {
      "cell_type": "code",
      "metadata": {
        "colab": {
          "base_uri": "https://localhost:8080/",
          "height": 357
        },
        "id": "7FjkPhygEhJ_",
        "outputId": "8d7de45a-ef0e-42f0-ef53-ebda807e5a3c"
      },
      "source": [
        "plt.figure(figsize = (20,5))\n",
        "plt.bar(common_words[:30,0], np.array(common_words[:30,1], dtype = np.dtype(int)))"
      ],
      "execution_count": 12,
      "outputs": [
        {
          "output_type": "execute_result",
          "data": {
            "text/plain": [
              "<BarContainer object of 30 artists>"
            ]
          },
          "metadata": {
            "tags": []
          },
          "execution_count": 12
        },
        {
          "output_type": "display_data",
          "data": {
            "image/png": "[encoded data removed]",
            "text/plain": [
              "<Figure size 1440x360 with 1 Axes>"
            ]
          },
          "metadata": {
            "tags": [],
            "needs_background": "light"
          }
        }
      ]
    },
    {
      "cell_type": "code",
      "metadata": {
        "id": "8l5TAcbfEhKA"
      },
      "source": [
        "def get_top_n_profanity_words(corpus, profanity, n=None):\n",
        "    vec = CountVectorizer().fit(corpus)\n",
        "    bag_of_words = vec.transform(corpus)\n",
        "    sum_words = bag_of_words.sum(axis=0) \n",
        "    words_freq = [(word, sum_words[0, idx])  for word, idx in vec.vocabulary_.items() if word in profanity]\n",
        "    words_freq =sorted(words_freq, key = lambda x: x[1], reverse=True)\n",
        "    return words_freq[:n]"
      ],
      "execution_count": 13,
      "outputs": []
    },
    {
      "cell_type": "markdown",
      "metadata": {
        "id": "DVSxoSDsZuzr"
      },
      "source": [
        "### In order to identify profanity we will be suing another dataset that contains extensive list of words that are offensive. You can download the dataset from this [link](https://data.world/natereed/banned-words-list/workspace/file?filename=swearWords.txt)"
      ]
    },
    {
      "cell_type": "code",
      "metadata": {
        "id": "cdmfFW6kEhKA"
      },
      "source": [
        "#https://data.world/natereed/banned-words-list/workspace/file?filename=swearWords.txt\n",
        "with open(\"/content/drive/MyDrive/Datasets/profanity.txt\") as f:\n",
        "    profanity = [p.strip() for p in f.readlines()]"
      ],
      "execution_count": 14,
      "outputs": []
    },
    {
      "cell_type": "code",
      "metadata": {
        "id": "nq24RXNrEhKA"
      },
      "source": [
        "common_profanity_words = get_top_n_profanity_words(df.text, profanity)\n",
        "common_profanity_words = np.array(common_profanity_words)"
      ],
      "execution_count": 15,
      "outputs": []
    },
    {
      "cell_type": "markdown",
      "metadata": {
        "id": "YRxKJxxqaNty"
      },
      "source": [
        "### In the below figure we can see the most common offensive words in the posts"
      ]
    },
    {
      "cell_type": "code",
      "metadata": {
        "colab": {
          "base_uri": "https://localhost:8080/",
          "height": 357
        },
        "id": "9fomnh-7EhKA",
        "outputId": "0f6ebab7-1111-4b3a-8ab0-0790ab5c1275"
      },
      "source": [
        "plt.figure(figsize = (20,5))\n",
        "plt.bar(common_profanity_words[:30,0], np.array(common_profanity_words[:30,1], dtype = np.dtype(int)))"
      ],
      "execution_count": 16,
      "outputs": [
        {
          "output_type": "execute_result",
          "data": {
            "text/plain": [
              "<BarContainer object of 30 artists>"
            ]
          },
          "metadata": {
            "tags": []
          },
          "execution_count": 16
        },
        {
          "output_type": "display_data",
          "data": {
            "image/png": "[encoded data removed]",
            "text/plain": [
              "<Figure size 1440x360 with 1 Axes>"
            ]
          },
          "metadata": {
            "tags": [],
            "needs_background": "light"
          }
        }
      ]
    },
    {
      "cell_type": "markdown",
      "metadata": {
        "id": "G3gY9JNfagYO"
      },
      "source": [
        "### We are creating final lable column that combines all the posts that are either offensive or contains hateful speech"
      ]
    },
    {
      "cell_type": "code",
      "metadata": {
        "id": "d8EHl7oNEhKB"
      },
      "source": [
        "index = [df.loc[df.text == \" \".join(x)].index.values[0] for x in  df.text.str.split() for y in x if y in profanity ]"
      ],
      "execution_count": 17,
      "outputs": []
    },
    {
      "cell_type": "code",
      "metadata": {
        "id": "eE-DWh97EhKB"
      },
      "source": [
        "df[\"profanity\"] = np.zeros(df.shape[0])"
      ],
      "execution_count": 18,
      "outputs": []
    },
    {
      "cell_type": "code",
      "metadata": {
        "id": "T9ZSJHUOEhKB"
      },
      "source": [
        "df.loc[index, [\"profanity\"]] = 1"
      ],
      "execution_count": 19,
      "outputs": []
    },
    {
      "cell_type": "code",
      "metadata": {
        "colab": {
          "base_uri": "https://localhost:8080/"
        },
        "id": "w63TzBluEhKB",
        "outputId": "cf72a3b5-a85e-4de1-f332-f1ad299ad494"
      },
      "source": [
        "df.profanity.sum()"
      ],
      "execution_count": 20,
      "outputs": [
        {
          "output_type": "execute_result",
          "data": {
            "text/plain": [
              "6020.0"
            ]
          },
          "metadata": {
            "tags": []
          },
          "execution_count": 20
        }
      ]
    },
    {
      "cell_type": "code",
      "metadata": {
        "colab": {
          "base_uri": "https://localhost:8080/"
        },
        "id": "HIGcZYkoEhKB",
        "outputId": "a7cd5441-21c4-447e-fc09-b7b15593ba0f"
      },
      "source": [
        "df.shape"
      ],
      "execution_count": 21,
      "outputs": [
        {
          "output_type": "execute_result",
          "data": {
            "text/plain": [
              "(20148, 14)"
            ]
          },
          "metadata": {
            "tags": []
          },
          "execution_count": 21
        }
      ]
    },
    {
      "cell_type": "code",
      "metadata": {
        "id": "xd-jePtjOkra"
      },
      "source": [
        "df[\"label\"] = np.zeros(df.shape[0])\n",
        "df.loc[df.final_label == \"toxic\",[\"label\"]]= 1\n",
        "df.loc[df.profanity == 1,[\"label\"]]= 1"
      ],
      "execution_count": 22,
      "outputs": []
    },
    {
      "cell_type": "code",
      "metadata": {
        "colab": {
          "base_uri": "https://localhost:8080/"
        },
        "id": "U-MWYRC6PXmI",
        "outputId": "11e714fc-3b71-4e83-c1e7-c57d7da2af7d"
      },
      "source": [
        "df.label.sum(), len(df)"
      ],
      "execution_count": 23,
      "outputs": [
        {
          "output_type": "execute_result",
          "data": {
            "text/plain": [
              "(13333.0, 20148)"
            ]
          },
          "metadata": {
            "tags": []
          },
          "execution_count": 23
        }
      ]
    },
    {
      "cell_type": "markdown",
      "metadata": {
        "id": "STGinpV7a57A"
      },
      "source": [
        "### As you can see we have 13333.0 out of the total 20148 posts that are either hateful or offensive"
      ]
    },
    {
      "cell_type": "markdown",
      "metadata": {
        "id": "F9-q5s9vbFqt"
      },
      "source": [
        "### Below we are sampling the dataset to create train and test samples fro training our model"
      ]
    },
    {
      "cell_type": "code",
      "metadata": {
        "id": "AikZgZwrG9OZ"
      },
      "source": [
        "df = df.sample(frac=1).reset_index(drop=True)"
      ],
      "execution_count": 24,
      "outputs": []
    },
    {
      "cell_type": "code",
      "metadata": {
        "id": "mS8lSt49HRV0"
      },
      "source": [
        "n = len(df)"
      ],
      "execution_count": 25,
      "outputs": []
    },
    {
      "cell_type": "code",
      "metadata": {
        "id": "qPjp-QE3NeP_"
      },
      "source": [
        "train_split = .8*n\n",
        "train_examples = df.loc[:train_split] \n",
        "test_examples = df.loc[train_split:] "
      ],
      "execution_count": 26,
      "outputs": []
    },
    {
      "cell_type": "code",
      "metadata": {
        "id": "n0mQKprsNnqL"
      },
      "source": [
        "train_examples.to_csv(\"train.csv\")\n",
        "test_examples.to_csv(\"test.csv\")\n"
      ],
      "execution_count": 27,
      "outputs": []
    },
    {
      "cell_type": "markdown",
      "metadata": {
        "id": "NFCLFSsubVVz"
      },
      "source": [
        "# Building our own Keras text classifer Model"
      ]
    },
    {
      "cell_type": "code",
      "metadata": {
        "id": "vSEpdTS8zPIn"
      },
      "source": [
        "from keras.models import Sequential\n",
        "from keras import layers\n",
        "from keras.preprocessing.text import Tokenizer\n",
        "from keras.preprocessing.sequence import pad_sequences\n",
        "from keras.wrappers.scikit_learn import KerasClassifier\n",
        "\n",
        "import os"
      ],
      "execution_count": 28,
      "outputs": []
    },
    {
      "cell_type": "markdown",
      "metadata": {
        "id": "cBgBcU3ibjWr"
      },
      "source": [
        "### We first need to create word emmbeddings for the entire dataset to convert sentences into their corresponding word vectors. For this we use the Keras Tokenizer."
      ]
    },
    {
      "cell_type": "code",
      "metadata": {
        "colab": {
          "base_uri": "https://localhost:8080/"
        },
        "id": "Cm2rzSjU5X3a",
        "outputId": "b585804f-b77f-4870-ea34-7c1029d722db"
      },
      "source": [
        "tokenizer = Tokenizer(num_words=50000)\n",
        "tokenizer.fit_on_texts(train_examples.text)\n",
        "\n",
        "X_train = tokenizer.texts_to_sequences(train_examples.text)\n",
        "X_test = tokenizer.texts_to_sequences(test_examples.text)\n",
        "\n",
        "vocab_size = len(tokenizer.word_index) + 1  # Adding 1 because of reserved 0 index\n",
        "\n",
        "# printing the actual text along with their corresponding word vectors\n",
        "print(train_examples.text[2])\n",
        "print(X_train[2])"
      ],
      "execution_count": 29,
      "outputs": [
        {
          "output_type": "stream",
          "text": [
            "joaquin phoenix interpretation is majestic i was moved by him ❤️\n",
            "[6878, 2673, 4976, 9, 8752, 5, 39, 1729, 42, 133, 2377]\n"
          ],
          "name": "stdout"
        }
      ]
    },
    {
      "cell_type": "code",
      "metadata": {
        "colab": {
          "base_uri": "https://localhost:8080/"
        },
        "id": "Fl3V2Udf54v0",
        "outputId": "c941bd62-cf05-439a-be69-dbdbb3d06142"
      },
      "source": [
        "# maximum length of each post\n",
        "maxlen = 100\n",
        "\n",
        "# padding the text to maintain uniformity in length\n",
        "X_train = pad_sequences(X_train, padding='post', maxlen=maxlen)\n",
        "X_test = pad_sequences(X_test, padding='post', maxlen=maxlen)\n",
        "\n",
        "#word vector after padding\n",
        "print(X_train[0, :])"
      ],
      "execution_count": 30,
      "outputs": [
        {
          "output_type": "stream",
          "text": [
            "[1387 4974 3635 4975   77   22   27  714    0    0    0    0    0    0\n",
            "    0    0    0    0    0    0    0    0    0    0    0    0    0    0\n",
            "    0    0    0    0    0    0    0    0    0    0    0    0    0    0\n",
            "    0    0    0    0    0    0    0    0    0    0    0    0    0    0\n",
            "    0    0    0    0    0    0    0    0    0    0    0    0    0    0\n",
            "    0    0    0    0    0    0    0    0    0    0    0    0    0    0\n",
            "    0    0    0    0    0    0    0    0    0    0    0    0    0    0\n",
            "    0    0]\n"
          ],
          "name": "stdout"
        }
      ]
    },
    {
      "cell_type": "markdown",
      "metadata": {
        "id": "sDMBOTh5cPij"
      },
      "source": [
        "### Creating the Keras text classification model"
      ]
    },
    {
      "cell_type": "code",
      "metadata": {
        "colab": {
          "base_uri": "https://localhost:8080/"
        },
        "id": "TNBAreju6C1K",
        "outputId": "d77ff684-6ceb-494f-f9ef-bf07d611e638"
      },
      "source": [
        "embedding_dim = 50\n",
        "\n",
        "model = Sequential()\n",
        "model.add(layers.Embedding(input_dim=vocab_size, \n",
        "                           output_dim=embedding_dim, \n",
        "                           input_length=maxlen))\n",
        "model.add(layers.Flatten())\n",
        "model.add(layers.Dense(10, activation='relu'))\n",
        "model.add(layers.Dropout(0.5))\n",
        "model.add(layers.Dense(1, activation='sigmoid'))\n",
        "\n",
        "# compiling the model with binary_crossentropy loss function\n",
        "model.compile(optimizer='adam',\n",
        "              loss='binary_crossentropy',\n",
        "              metrics=['accuracy'])\n",
        "model.summary()"
      ],
      "execution_count": 31,
      "outputs": [
        {
          "output_type": "stream",
          "text": [
            "Model: \"sequential\"\n",
            "_________________________________________________________________\n",
            "Layer (type)                 Output Shape              Param #   \n",
            "=================================================================\n",
            "embedding (Embedding)        (None, 100, 50)           1269800   \n",
            "_________________________________________________________________\n",
            "flatten (Flatten)            (None, 5000)              0         \n",
            "_________________________________________________________________\n",
            "dense (Dense)                (None, 10)                50010     \n",
            "_________________________________________________________________\n",
            "dropout (Dropout)            (None, 10)                0         \n",
            "_________________________________________________________________\n",
            "dense_1 (Dense)              (None, 1)                 11        \n",
            "=================================================================\n",
            "Total params: 1,319,821\n",
            "Trainable params: 1,319,821\n",
            "Non-trainable params: 0\n",
            "_________________________________________________________________\n"
          ],
          "name": "stdout"
        }
      ]
    },
    {
      "cell_type": "markdown",
      "metadata": {
        "id": "y5msNpT5cfep"
      },
      "source": [
        "### Training the model for 20 epochs "
      ]
    },
    {
      "cell_type": "code",
      "metadata": {
        "colab": {
          "base_uri": "https://localhost:8080/"
        },
        "id": "tJAueYsJ6GBa",
        "outputId": "b1e8d72f-6c28-4928-b50c-d27264a961b9"
      },
      "source": [
        "history = model.fit(X_train, train_examples.label,\n",
        "                    epochs=20,\n",
        "                    verbose=True,\n",
        "                    validation_data=(X_test, test_examples.label),\n",
        "                    batch_size=10)\n",
        "loss, accuracy = model.evaluate(X_train, train_examples.label, verbose=False)\n",
        "print(\"Training Accuracy: {:.4f}\".format(accuracy))\n",
        "loss, accuracy = model.evaluate(X_test, test_examples.label, verbose=False)\n",
        "print(\"Testing Accuracy:  {:.4f}\".format(accuracy))\n"
      ],
      "execution_count": 32,
      "outputs": [
        {
          "output_type": "stream",
          "text": [
            "Epoch 1/20\n",
            "1612/1612 [==============================] - 21s 12ms/step - loss: 0.6450 - accuracy: 0.6598 - val_loss: 0.4739 - val_accuracy: 0.7453\n",
            "Epoch 2/20\n",
            "1612/1612 [==============================] - 19s 12ms/step - loss: 0.4036 - accuracy: 0.8094 - val_loss: 0.4340 - val_accuracy: 0.7813\n",
            "Epoch 3/20\n",
            "1612/1612 [==============================] - 19s 11ms/step - loss: 0.2172 - accuracy: 0.9237 - val_loss: 0.5223 - val_accuracy: 0.7692\n",
            "Epoch 4/20\n",
            "1612/1612 [==============================] - 20s 12ms/step - loss: 0.0969 - accuracy: 0.9740 - val_loss: 0.6599 - val_accuracy: 0.7689\n",
            "Epoch 5/20\n",
            "1612/1612 [==============================] - 20s 12ms/step - loss: 0.0589 - accuracy: 0.9868 - val_loss: 0.8865 - val_accuracy: 0.7722\n",
            "Epoch 6/20\n",
            "1612/1612 [==============================] - 20s 12ms/step - loss: 0.0390 - accuracy: 0.9891 - val_loss: 1.0147 - val_accuracy: 0.7645\n",
            "Epoch 7/20\n",
            "1612/1612 [==============================] - 19s 12ms/step - loss: 0.0310 - accuracy: 0.9922 - val_loss: 1.3559 - val_accuracy: 0.7692\n",
            "Epoch 8/20\n",
            "1612/1612 [==============================] - 19s 12ms/step - loss: 0.0243 - accuracy: 0.9928 - val_loss: 1.5305 - val_accuracy: 0.7498\n",
            "Epoch 9/20\n",
            "1612/1612 [==============================] - 19s 12ms/step - loss: 0.0243 - accuracy: 0.9928 - val_loss: 1.7822 - val_accuracy: 0.7645\n",
            "Epoch 10/20\n",
            "1612/1612 [==============================] - 19s 12ms/step - loss: 0.0221 - accuracy: 0.9926 - val_loss: 1.7912 - val_accuracy: 0.7508\n",
            "Epoch 11/20\n",
            "1612/1612 [==============================] - 20s 12ms/step - loss: 0.0201 - accuracy: 0.9939 - val_loss: 1.8095 - val_accuracy: 0.7620\n",
            "Epoch 12/20\n",
            "1612/1612 [==============================] - 19s 12ms/step - loss: 0.0238 - accuracy: 0.9921 - val_loss: 2.0376 - val_accuracy: 0.7513\n",
            "Epoch 13/20\n",
            "1612/1612 [==============================] - 19s 12ms/step - loss: 0.0196 - accuracy: 0.9939 - val_loss: 1.9914 - val_accuracy: 0.7523\n",
            "Epoch 14/20\n",
            "1612/1612 [==============================] - 19s 12ms/step - loss: 0.0185 - accuracy: 0.9944 - val_loss: 2.0798 - val_accuracy: 0.7538\n",
            "Epoch 15/20\n",
            "1612/1612 [==============================] - 19s 12ms/step - loss: 0.0179 - accuracy: 0.9945 - val_loss: 2.1197 - val_accuracy: 0.7528\n",
            "Epoch 16/20\n",
            "1612/1612 [==============================] - 19s 12ms/step - loss: 0.0189 - accuracy: 0.9939 - val_loss: 2.4059 - val_accuracy: 0.7513\n",
            "Epoch 17/20\n",
            "1612/1612 [==============================] - 19s 12ms/step - loss: 0.0223 - accuracy: 0.9926 - val_loss: 2.5343 - val_accuracy: 0.7506\n",
            "Epoch 18/20\n",
            "1612/1612 [==============================] - 19s 12ms/step - loss: 0.0213 - accuracy: 0.9927 - val_loss: 2.7343 - val_accuracy: 0.7473\n",
            "Epoch 19/20\n",
            "1612/1612 [==============================] - 19s 12ms/step - loss: 0.0245 - accuracy: 0.9947 - val_loss: 2.4730 - val_accuracy: 0.7448\n",
            "Epoch 20/20\n",
            "1612/1612 [==============================] - 20s 12ms/step - loss: 0.0198 - accuracy: 0.9933 - val_loss: 2.3678 - val_accuracy: 0.7426\n",
            "Training Accuracy: 0.9995\n",
            "Testing Accuracy:  0.7426\n"
          ],
          "name": "stdout"
        }
      ]
    },
    {
      "cell_type": "markdown",
      "metadata": {
        "id": "bpuEGIo6cqxz"
      },
      "source": [
        "### Plotting the train, test loss and accuracy"
      ]
    },
    {
      "cell_type": "code",
      "metadata": {
        "id": "DkbtHTu-85Ry"
      },
      "source": [
        "def plot_history(history):\n",
        "    acc = history.history['accuracy']\n",
        "    val_acc = history.history['val_accuracy']\n",
        "    loss = history.history['loss']\n",
        "    val_loss = history.history['val_loss']\n",
        "    x = range(1, len(acc) + 1)\n",
        "\n",
        "    plt.figure(figsize=(12, 5))\n",
        "    plt.subplot(1, 2, 1)\n",
        "    plt.plot(x, acc, 'b', label='Training acc')\n",
        "    plt.plot(x, val_acc, 'r', label='Test acc')\n",
        "    plt.title('Training and test accuracy')\n",
        "    plt.legend()\n",
        "    plt.subplot(1, 2, 2)\n",
        "    plt.plot(x, loss, 'b', label='Training loss')\n",
        "    plt.plot(x, val_loss, 'r', label='Test loss')\n",
        "    plt.title('Training and test loss')\n",
        "    plt.legend()"
      ],
      "execution_count": 33,
      "outputs": []
    },
    {
      "cell_type": "code",
      "metadata": {
        "colab": {
          "base_uri": "https://localhost:8080/",
          "height": 336
        },
        "id": "C2vn61Y988Mm",
        "outputId": "cca12444-ccb1-4087-a1bd-d64d63428119"
      },
      "source": [
        "plot_history(history)"
      ],
      "execution_count": 34,
      "outputs": [
        {
          "output_type": "display_data",
          "data": {
            "image/png": "[encoded data removed]",
            "text/plain": [
              "<Figure size 864x360 with 2 Axes>"
            ]
          },
          "metadata": {
            "tags": [],
            "needs_background": "light"
          }
        }
      ]
    },
    {
      "cell_type": "markdown",
      "metadata": {
        "id": "XRlDhJAIc--n"
      },
      "source": [
        "## Saving the trained model as a tflite model for using it to build a Mobile application"
      ]
    },
    {
      "cell_type": "code",
      "metadata": {
        "colab": {
          "base_uri": "https://localhost:8080/"
        },
        "id": "ZXrejtHJ6WFY",
        "outputId": "e6d44fbd-3954-4aea-b587-46f2d2d55d14"
      },
      "source": [
        "import tensorflow as tf\n",
        "import json\n",
        "\n",
        "# Convert the model\n",
        "converter = tf.lite.TFLiteConverter.from_keras_model(model) # providing the keras trained model\n",
        "tflite_model = converter.convert()\n",
        "\n",
        "# Save the model.\n",
        "with open('model.tflite', 'wb') as f:\n",
        "  f.write(tflite_model)"
      ],
      "execution_count": 35,
      "outputs": [
        {
          "output_type": "stream",
          "text": [
            "INFO:tensorflow:Assets written to: /tmp/tmpadgdcsjn/assets\n"
          ],
          "name": "stdout"
        }
      ]
    },
    {
      "cell_type": "markdown",
      "metadata": {
        "id": "aq19YdJpdKg_"
      },
      "source": [
        "### Saving the vocab file "
      ]
    },
    {
      "cell_type": "code",
      "metadata": {
        "id": "Lq0pK5lB9A0J"
      },
      "source": [
        "with open( 'word_dict.json' , 'w' ) as file:\n",
        "\tjson.dump( tokenizer.word_index , file )"
      ],
      "execution_count": 36,
      "outputs": []
    },
    {
      "cell_type": "markdown",
      "metadata": {
        "id": "Zz5z2yORdPoE"
      },
      "source": [
        "# References\n",
        "\n",
        "\n",
        "1.   Mathew, Binny, et al. \"HateXplain: A Benchmark Dataset for Explainable Hate Speech Detection.\" arXiv preprint arXiv:2012.10289 (2020).\n",
        "\n",
        "2.   https://data.world/natereed/banned-words-list/workspace/file?filename=swearWords.txt\n",
        "\n",
        "3.   https://www.tensorflow.org/lite/convert\n",
        "\n",
        "4.   https://www.kaggle.com/sanikamal/text-classification-with-python-and-keras#What-Is-a-Word-Embedding?\n",
        "\n",
        "\n",
        "\n"
      ]
    },
    {
      "cell_type": "code",
      "metadata": {
        "id": "LS50VHpDgxIX"
      },
      "source": [
        ""
      ],
      "execution_count": null,
      "outputs": []
    }
  ]
}